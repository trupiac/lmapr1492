{
 "cells": [
  {
   "cell_type": "markdown",
   "id": "civic-montana",
   "metadata": {},
   "source": [
    "Clara Trupia 32291800 - Tâche 6 - Ce notebook permet de télécharger le ﬁchier CIF du matériau qui m'a été attribué (le AlN mp-661) et d'étudier l’effet de 3 éléments de symétrie différents (pas l’identité) chacun pour 1 atome différent. Ici, nous travaillerons avec la maille conventionnelle car elle montre toute la symétrie de la maille. "
   ]
  },
  {
   "cell_type": "code",
   "execution_count": 9,
   "id": "complete-circus",
   "metadata": {},
   "outputs": [],
   "source": [
    "from pymatgen.ext.matproj import MPRester\n",
    "from pymatgen.core.operations import SymmOp\n",
    "from pymatgen.io.cif import CifWriter\n",
    "from pymatgen.symmetry.analyzer import SpacegroupAnalyzer\n",
    "from pymatgen.core.composition import Composition\n",
    "from jupyter_jsmol.pymatgen import quick_view\n",
    "with MPRester(\"rmVZuN7gqE6pdzRC\") as m :\n",
    "    struct = m.get_structure_by_material_id(\"mp-661\") #récupération de la structure\n",
    "    newCifFile = CifWriter(struct) #création du fichier cif et écriture dans le fichier\n",
    "    newCifFile.write_file('structure_mp661.cif')"
   ]
  },
  {
   "cell_type": "code",
   "execution_count": 11,
   "id": "activated-workshop",
   "metadata": {},
   "outputs": [
    {
     "data": {
      "application/vnd.jupyter.widget-view+json": {
       "model_id": "9690fbde741f401d98367114a763ea77",
       "version_major": 2,
       "version_minor": 0
      },
      "text/plain": [
       "JsmolView(layout=Layout(align_self='stretch', height='400px'))"
      ]
     },
     "metadata": {},
     "output_type": "display_data"
    },
    {
     "name": "stdout",
     "output_type": "stream",
     "text": [
      "Voilà la maille conventionnelle du AlN. Les atomes d'azote N sont en bleu et ceux d'aluminium Al sont en gris. \n"
     ]
    }
   ],
   "source": [
    "view = quick_view(struct)\n",
    "display(view)\n",
    "#view.script(\"draw symop 2 {atomno=2}\")\n",
    "print(\"Voilà la maille conventionnelle du AlN. Les atomes d'azote N sont en bleu et ceux d'aluminium Al sont en gris. \")"
   ]
  },
  {
   "cell_type": "markdown",
   "id": "paperback-appraisal",
   "metadata": {},
   "source": [
    "$\\textbf{Opération de symétrie 1 : Rotation d'ordre 3 dans la direction [001]} \\\\$\n",
    "La première opération choisie est la rotation d'ordre 3 dans la direction [001] donc de 120 degrés ou $\\frac{2\\pi}{3}$ d'angle de rotation qui envoie un point (x,y,z) à la position (-y,x-y,z).\n",
    "Système représentant cette opération : \n",
    "$\\begin{pmatrix} 0 & -1 & 0 \\\\ 1 & -1 & 0 \\\\ 0 & 0 & 1\\end{pmatrix} \\begin{pmatrix} x \\\\ y \\\\ z \\end{pmatrix} = \\begin{pmatrix} -y \\\\ x-y \\\\ z \\end{pmatrix}$\n"
   ]
  },
  {
   "cell_type": "code",
   "execution_count": 21,
   "id": "express-input",
   "metadata": {},
   "outputs": [
    {
     "name": "stdout",
     "output_type": "stream",
     "text": [
      "Matrice associée à cette rotation dordre 3 :  \n",
      " [[ 0. -1.  0.]\n",
      " [ 1. -1.  0.]\n",
      " [ 0.  0.  1.]]\n"
     ]
    }
   ],
   "source": [
    "rot = SymmOp.from_xyz_string('-y,x-y,z')\n",
    "print ('Matrice associée à cette rotation d''ordre 3 :  \\n', rot.rotation_matrix )\n"
   ]
  },
  {
   "cell_type": "code",
   "execution_count": 22,
   "id": "executed-argentina",
   "metadata": {
    "scrolled": true
   },
   "outputs": [
    {
     "data": {
      "application/vnd.jupyter.widget-view+json": {
       "model_id": "7697ff83b8d346349b56e6ac58145fe3",
       "version_major": 2,
       "version_minor": 0
      },
      "text/plain": [
       "JsmolView(layout=Layout(align_self='stretch', height='400px'))"
      ]
     },
     "metadata": {},
     "output_type": "display_data"
    }
   ],
   "source": [
    "view = quick_view(struct)\n",
    "display(view)\n",
    "view.script(\"draw symop 3 {atomno=1}\")"
   ]
  },
  {
   "cell_type": "markdown",
   "id": "sporting-infrastructure",
   "metadata": {},
   "source": [
    "Ci-dessus, l'application de cette rotation à l'atome 1, autrement dit à un atome de Al situé en ( 0.33333,0.66667,0.99929) $\\Rightarrow$ la flèche rouge représente l'axe de rotation d'ordre 3 [001] parallèle à c.\n",
    "$\\newline$L'application de la rotation à cet atome transforme ses coordonnées en : \n"
   ]
  },
  {
   "cell_type": "code",
   "execution_count": 14,
   "id": "danish-individual",
   "metadata": {},
   "outputs": [
    {
     "name": "stdout",
     "output_type": "stream",
     "text": [
      "[-0.66667 -0.33334  0.99929]\n"
     ]
    }
   ],
   "source": [
    "print(rot.operate((0.33333,0.66667,0.99929)))"
   ]
  },
  {
   "cell_type": "markdown",
   "id": "ranking-forum",
   "metadata": {},
   "source": [
    "$\\textbf{Opération de symétrie 2 : Réflexion par rapport à un plan miroir} \\\\$\n",
    "La deuxième opération de symétrie choisie est la réflexion par rapport à un plan miroir qui envoie un point (x,y,z) à la position (-y,-x,-z). Système représentant cette opération : \n",
    "$\\begin{pmatrix} 0 & -1 & 0 \\\\ -1 & 0 & 0 \\\\ 0 & 0 & -1\\end{pmatrix} \\begin{pmatrix} x \\\\ y \\\\ z \\end{pmatrix} = \\begin{pmatrix} -y \\\\ -x \\\\ -z \\end{pmatrix}$"
   ]
  },
  {
   "cell_type": "code",
   "execution_count": 15,
   "id": "guilty-albert",
   "metadata": {},
   "outputs": [
    {
     "name": "stdout",
     "output_type": "stream",
     "text": [
      "Matrice associée à cette réflexion par rapport à ce plan miroir : \n",
      " [[ 0. -1.  0.]\n",
      " [-1.  0.  0.]\n",
      " [ 0.  0. -1.]]\n"
     ]
    }
   ],
   "source": [
    "plan_mir=SymmOp.from_xyz_string('-y,-x,-z')\n",
    "print('Matrice associée à cette réflexion par rapport à ce plan miroir : \\n', plan_mir.rotation_matrix)"
   ]
  },
  {
   "cell_type": "code",
   "execution_count": 16,
   "id": "composed-devices",
   "metadata": {},
   "outputs": [
    {
     "data": {
      "application/vnd.jupyter.widget-view+json": {
       "model_id": "a2040d60be874a6a87876787eef4c1d8",
       "version_major": 2,
       "version_minor": 0
      },
      "text/plain": [
       "JsmolView(layout=Layout(align_self='stretch', height='400px'))"
      ]
     },
     "metadata": {},
     "output_type": "display_data"
    }
   ],
   "source": [
    "view = quick_view(struct)\n",
    "display(view)\n",
    "view.script(\"draw symop 10 {atomno=2}\")"
   ]
  },
  {
   "cell_type": "markdown",
   "id": "recreational-light",
   "metadata": {},
   "source": [
    "Ci-dessous, l'application de cette réflexion par rapport à un plan miroir (en vert) sur l'atome 2, autrement dit à un atome de N situé en (0.33333333,0.66666667,0.38071300) $\\Rightarrow$ la flèche bleue représente le déplacement de l'atome après cette opération.\n",
    "$\\newline$L'application de la rotation à cet atome 2 transforme ses coordonnées en : "
   ]
  },
  {
   "cell_type": "code",
   "execution_count": 17,
   "id": "waiting-burning",
   "metadata": {},
   "outputs": [
    {
     "name": "stdout",
     "output_type": "stream",
     "text": [
      "[-0.66666667 -0.33333333 -0.380713  ]\n"
     ]
    }
   ],
   "source": [
    "print(plan_mir.operate((0.33333333,0.66666667,0.38071300)))"
   ]
  },
  {
   "cell_type": "markdown",
   "id": "saved-consumer",
   "metadata": {},
   "source": [
    "$\\textbf{Opération de symétrie 3 : Rotation hélicoïdale par rapport à un axe hélicoïdal} \\\\$\n",
    "La troisième opération de symétrie choisie est la rotation hélicoïdale par rapport à un axe hélicoïdal. Il s'agit donc d'une rotation de 180 degrés ou $\\pi$ d'angle de rotation, suivi d'une translation de $\\frac{1}{2}$ parallèle à l'axe hélicoïdal. Cette opération envoie un point (x,y,z) à la position (-x,-y,z+1/2). \n",
    "Système représentant cette opération : \n",
    "$\\begin{pmatrix} -1 & 0 & 0 \\\\ 0 & -1 & 0 \\\\ 0 & 0 & 1\\end{pmatrix} \\begin{pmatrix} x \\\\ y \\\\ z \\end{pmatrix} + \\begin{pmatrix} 0 \\\\ 0 \\\\ \\frac{1}{2} \\end{pmatrix} = \\begin{pmatrix} -x \\\\ -y \\\\ z+\\frac{1}{2} \\end{pmatrix}$"
   ]
  },
  {
   "cell_type": "code",
   "execution_count": 18,
   "id": "appropriate-greece",
   "metadata": {},
   "outputs": [
    {
     "name": "stdout",
     "output_type": "stream",
     "text": [
      "Matrice associée à cette rotation hélicoidale :  \n",
      " [[-1.  0.  0.]\n",
      " [ 0. -1.  0.]\n",
      " [ 0.  0.  1.]]\n"
     ]
    }
   ],
   "source": [
    "rothel = SymmOp.from_xyz_string('-x,-y,z+1/2')\n",
    "print ('Matrice associée à cette rotation hélicoidale :  \\n', rothel.rotation_matrix )"
   ]
  },
  {
   "cell_type": "code",
   "execution_count": 19,
   "id": "photographic-poetry",
   "metadata": {},
   "outputs": [
    {
     "data": {
      "application/vnd.jupyter.widget-view+json": {
       "model_id": "e5ac5673ed1c42d1b12cd1b225fec0a1",
       "version_major": 2,
       "version_minor": 0
      },
      "text/plain": [
       "JsmolView(layout=Layout(align_self='stretch', height='400px'))"
      ]
     },
     "metadata": {},
     "output_type": "display_data"
    }
   ],
   "source": [
    "view = quick_view(struct)\n",
    "display(view)\n",
    "view.script(\"draw symop 2 {atomno=4}\")"
   ]
  },
  {
   "cell_type": "markdown",
   "id": "unavailable-incident",
   "metadata": {},
   "source": [
    "Ci-dessus, l'application de cette rotation hélicoidale par rapport à un axe hélicoidal (axe c direction [001]) sur l'atome 4, autrement dit à un atome de N situé en (0.66667,0.33333,0.88071) $\\Rightarrow$ la flèche rouge indique la rotation et la flèche jaune représente le vecteur translation.\n",
    "$\\newline$L'application de la rotation hélicoïdale à cet atome 4 transforme ses coordonnées en : "
   ]
  },
  {
   "cell_type": "code",
   "execution_count": 20,
   "id": "expired-brush",
   "metadata": {},
   "outputs": [
    {
     "name": "stdout",
     "output_type": "stream",
     "text": [
      "[-0.66667 -0.33333  1.38071]\n"
     ]
    }
   ],
   "source": [
    "print(rothel.operate((0.66667,0.33333,0.88071)))"
   ]
  }
 ],
 "metadata": {
  "kernelspec": {
   "display_name": "Python 3",
   "language": "python",
   "name": "python3"
  },
  "language_info": {
   "codemirror_mode": {
    "name": "ipython",
    "version": 3
   },
   "file_extension": ".py",
   "mimetype": "text/x-python",
   "name": "python",
   "nbconvert_exporter": "python",
   "pygments_lexer": "ipython3",
   "version": "3.6.8"
  }
 },
 "nbformat": 4,
 "nbformat_minor": 5
}
