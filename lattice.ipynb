{
 "cells": [
  {
   "cell_type": "markdown",
   "id": "hazardous-participation",
   "metadata": {},
   "source": [
    "Clara Trupia 32291800 Tâche 5\n",
    "Ce notebook a pour but de télécharger le ﬁchier CIF du matériau qui m'a été attribué : le AlN (mp-661) et de déterminer les vecteurs de bases des ses réseaux direct et réciproque, son type de maille, son système cristallin, ainsi que son groupe ponctuel."
   ]
  },
  {
   "cell_type": "code",
   "execution_count": 1,
   "id": "statutory-worker",
   "metadata": {},
   "outputs": [
    {
     "name": "stdout",
     "output_type": "stream",
     "text": [
      "les vecteurs des réseaux directs sont :\n",
      "1.564294 -2.709437 0.000000\n",
      "1.564294 2.709437 0.000000\n",
      "0.000000 0.000000 5.016955\n",
      "les vecteurs des réseaux réciproques sont :\n",
      "2.008313 -1.159500 0.000000\n",
      "2.008313 1.159500 0.000000\n",
      "0.000000 0.000000 1.252390\n",
      "le type de maille est :\n",
      "hexagonal\n",
      "le système cristallin est :\n",
      "hexagonal\n",
      "le groupe ponctuel est :\n",
      "6mm\n"
     ]
    }
   ],
   "source": [
    "from pymatgen.io.cif import CifWriter \n",
    "from pymatgen.core.lattice import Lattice\n",
    "from pymatgen.symmetry.analyzer import SpacegroupAnalyzer\n",
    "from pymatgen.ext.matproj import MPRester\n",
    "\n",
    "with MPRester(\"rmVZuN7gqE6pdzRC\") as m :\n",
    "    struct = m.get_structure_by_material_id(\"mp-661\") #je récupère la structure \n",
    "    newCifFile = CifWriter(struct) #je crée le fichier cif et j'écris dans celui-ci\n",
    "    newCifFile.write_file('structure_mp661.cif')\n",
    "\n",
    "sga=SpacegroupAnalyzer(struct) # je crée la classe SpacegroupAnalyzer qui va récupérer des données\n",
    "str_prim=SpacegroupAnalyzer(struct).get_primitive_standard_structure()\n",
    "\n",
    "vector_dir=str_prim.lattice\n",
    "print('les vecteurs des réseaux directs sont :')\n",
    "print(vector_dir)\n",
    "\n",
    "vector_reci=str_prim.lattice.reciprocal_lattice \n",
    "print('les vecteurs des réseaux réciproques sont :')\n",
    "print(vector_reci)\n",
    "\n",
    "lattice_type=sga.get_lattice_type()\n",
    "print('le type de maille est :')\n",
    "print(lattice_type)\n",
    "\n",
    "crystal_syst=sga.get_crystal_system() \n",
    "print('le système cristallin est :')\n",
    "print(crystal_syst)\n",
    "\n",
    "point_group=sga.get_point_group_symbol() \n",
    "print('le groupe ponctuel est :')\n",
    "print(point_group)"
   ]
  },
  {
   "cell_type": "code",
   "execution_count": null,
   "id": "available-future",
   "metadata": {},
   "outputs": [],
   "source": []
  }
 ],
 "metadata": {
  "kernelspec": {
   "display_name": "Python 3",
   "language": "python",
   "name": "python3"
  },
  "language_info": {
   "codemirror_mode": {
    "name": "ipython",
    "version": 3
   },
   "file_extension": ".py",
   "mimetype": "text/x-python",
   "name": "python",
   "nbconvert_exporter": "python",
   "pygments_lexer": "ipython3",
   "version": "3.6.8"
  }
 },
 "nbformat": 4,
 "nbformat_minor": 5
}
